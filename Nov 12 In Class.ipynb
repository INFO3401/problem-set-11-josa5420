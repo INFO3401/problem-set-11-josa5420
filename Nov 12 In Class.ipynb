{
 "cells": [
  {
   "cell_type": "code",
   "execution_count": 29,
   "metadata": {},
   "outputs": [],
   "source": [
    "import numpy as np\n",
    "import pandas as pd\n",
    "import scipy\n",
    "\n",
    "import statsmodels\n",
    "import statsmodels.api as sm\n",
    "from statsmodels.formula.api import ols\n",
    "\n",
    "# Extract the data. Return both the raw data and dataframe\n",
    "def generateDataset(filename):\n",
    "    data = pd.read_csv(filename)\n",
    "    df = data[0:]\n",
    "    df = df.dropna()\n",
    "    return data, df\n",
    "\n",
    "def runTTest(ivA, ivB, dv):\n",
    "    ttest = scipy.stats.ttest_ind(ivA[dv],ivB[dv])\n",
    "    print(ttest)\n",
    "    \n",
    "def runAnova(data, formula):\n",
    "    model = ols(formula, data).fit()\n",
    "    aov_table = sm.stats.anova_lm(model, typ=2)\n",
    "    print(aov_table)"
   ]
  },
  {
   "cell_type": "code",
   "execution_count": null,
   "metadata": {
    "collapsed": true
   },
   "outputs": [],
   "source": []
  },
  {
   "cell_type": "code",
   "execution_count": 31,
   "metadata": {},
   "outputs": [
    {
     "name": "stdout",
     "output_type": "stream",
     "text": [
      "Does gender correlate with admissions?\n",
      "Ttest_indResult(statistic=1.2825084871664518, pvalue=0.22859473251723653)\n",
      "Does department correlate with admissions?\n",
      "                  sum_sq   df         F    PR(>F)\n",
      "C(Department)   92266.75  5.0  0.737438  0.622205\n",
      "Residual       150141.50  6.0       NaN       NaN\n",
      "Do gender and department correlate with admissions?\n",
      "                      sum_sq   df         F    PR(>F)\n",
      "C(Department)   92266.750000  5.0  0.796080  0.595753\n",
      "C(Gender)       34240.083333  1.0  1.477121  0.278477\n",
      "Residual       115901.416667  5.0       NaN       NaN\n"
     ]
    }
   ],
   "source": [
    "rawData, df = generateDataset('simpsons_paradox.csv')\n",
    "print(\"Does gender correlate with admissions?\")\n",
    "men = df[df['Gender']=='Male']#.append(df[df['Gender']=='Male '])\n",
    "women = df[df['Gender']=='Female']\n",
    "runTTest(men,women,'Admitted')\n",
    "\n",
    "print(\"Does department correlate with admissions?\")\n",
    "simpleFormula = 'Admitted ~ C(Department)'\n",
    "runAnova(rawData, simpleFormula)\n",
    "\n",
    "print(\"Do gender and department correlate with admissions?\")\n",
    "moreComplex = 'Admitted ~ C(Department) + C(Gender)'\n",
    "runAnova(rawData, moreComplex)"
   ]
  },
  {
   "cell_type": "code",
   "execution_count": null,
   "metadata": {
    "collapsed": true
   },
   "outputs": [],
   "source": []
  },
  {
   "cell_type": "markdown",
   "metadata": {},
   "source": [
    "1. What statistical test would you use for the following scenarios? \n",
    "\n",
    "    (a) Does a student's current year (e.g., freshman, sophomore, etc.) effect their GPA?\n",
    "\n",
    "    (b) Has the amount of snowfall in the mountains changed over time? \n",
    "\n",
    "    (c) Over the last 10 years, have there been more hikers on average in Estes Park in the spring or summer? \n",
    "\n",
    "    (d) Does a student's home state predict their highest degree level?\n",
    "\n",
    "2. You've been given some starter code in class that shows you how to set up ANOVAs and Student's T-Tests in addition to the regression code from the last few weeks. Now, use this code to more deeply explore the simpsons_paradox.csv dataset. Compute new dependent variables that shows the percentage of students admitted and rejected for each row in the CSV. Use those rows to try to understand what significant correlations exist in this data. What factors appear to contribute most heavily to admissions? Do you think the admissions process is biased based on the available data? Why or why not?"
   ]
  },
  {
   "cell_type": "code",
   "execution_count": 2,
   "metadata": {
    "collapsed": true
   },
   "outputs": [],
   "source": [
    "a = pd.read_csv(\"simpsons_paradox.csv\")"
   ]
  },
  {
   "cell_type": "code",
   "execution_count": 5,
   "metadata": {},
   "outputs": [
    {
     "data": {
      "text/html": [
       "<div>\n",
       "<style>\n",
       "    .dataframe thead tr:only-child th {\n",
       "        text-align: right;\n",
       "    }\n",
       "\n",
       "    .dataframe thead th {\n",
       "        text-align: left;\n",
       "    }\n",
       "\n",
       "    .dataframe tbody tr th {\n",
       "        vertical-align: top;\n",
       "    }\n",
       "</style>\n",
       "<table border=\"1\" class=\"dataframe\">\n",
       "  <thead>\n",
       "    <tr style=\"text-align: right;\">\n",
       "      <th></th>\n",
       "      <th>Gender</th>\n",
       "      <th>Mean_Age</th>\n",
       "      <th>Admitted</th>\n",
       "      <th>Rejected</th>\n",
       "      <th>Department</th>\n",
       "    </tr>\n",
       "  </thead>\n",
       "  <tbody>\n",
       "    <tr>\n",
       "      <th>0</th>\n",
       "      <td>Female</td>\n",
       "      <td>25</td>\n",
       "      <td>89</td>\n",
       "      <td>19</td>\n",
       "      <td>A</td>\n",
       "    </tr>\n",
       "    <tr>\n",
       "      <th>1</th>\n",
       "      <td>Female</td>\n",
       "      <td>22</td>\n",
       "      <td>17</td>\n",
       "      <td>8</td>\n",
       "      <td>B</td>\n",
       "    </tr>\n",
       "    <tr>\n",
       "      <th>2</th>\n",
       "      <td>Female</td>\n",
       "      <td>24</td>\n",
       "      <td>202</td>\n",
       "      <td>391</td>\n",
       "      <td>C</td>\n",
       "    </tr>\n",
       "    <tr>\n",
       "      <th>3</th>\n",
       "      <td>Female</td>\n",
       "      <td>23</td>\n",
       "      <td>131</td>\n",
       "      <td>244</td>\n",
       "      <td>D</td>\n",
       "    </tr>\n",
       "    <tr>\n",
       "      <th>4</th>\n",
       "      <td>Female</td>\n",
       "      <td>24</td>\n",
       "      <td>94</td>\n",
       "      <td>299</td>\n",
       "      <td>E</td>\n",
       "    </tr>\n",
       "    <tr>\n",
       "      <th>5</th>\n",
       "      <td>Female</td>\n",
       "      <td>24</td>\n",
       "      <td>24</td>\n",
       "      <td>317</td>\n",
       "      <td>F</td>\n",
       "    </tr>\n",
       "    <tr>\n",
       "      <th>6</th>\n",
       "      <td>Male</td>\n",
       "      <td>22</td>\n",
       "      <td>512</td>\n",
       "      <td>313</td>\n",
       "      <td>A</td>\n",
       "    </tr>\n",
       "    <tr>\n",
       "      <th>7</th>\n",
       "      <td>Male</td>\n",
       "      <td>22</td>\n",
       "      <td>353</td>\n",
       "      <td>207</td>\n",
       "      <td>B</td>\n",
       "    </tr>\n",
       "    <tr>\n",
       "      <th>8</th>\n",
       "      <td>Male</td>\n",
       "      <td>23</td>\n",
       "      <td>120</td>\n",
       "      <td>205</td>\n",
       "      <td>C</td>\n",
       "    </tr>\n",
       "    <tr>\n",
       "      <th>9</th>\n",
       "      <td>Male</td>\n",
       "      <td>24</td>\n",
       "      <td>138</td>\n",
       "      <td>279</td>\n",
       "      <td>D</td>\n",
       "    </tr>\n",
       "    <tr>\n",
       "      <th>10</th>\n",
       "      <td>Male</td>\n",
       "      <td>22</td>\n",
       "      <td>53</td>\n",
       "      <td>138</td>\n",
       "      <td>E</td>\n",
       "    </tr>\n",
       "    <tr>\n",
       "      <th>11</th>\n",
       "      <td>Male</td>\n",
       "      <td>25</td>\n",
       "      <td>22</td>\n",
       "      <td>351</td>\n",
       "      <td>F</td>\n",
       "    </tr>\n",
       "  </tbody>\n",
       "</table>\n",
       "</div>"
      ],
      "text/plain": [
       "    Gender  Mean_Age  Admitted  Rejected Department\n",
       "0   Female        25        89        19          A\n",
       "1   Female        22        17         8          B\n",
       "2   Female        24       202       391          C\n",
       "3   Female        23       131       244          D\n",
       "4   Female        24        94       299          E\n",
       "5   Female        24        24       317          F\n",
       "6     Male        22       512       313          A\n",
       "7     Male        22       353       207          B\n",
       "8    Male         23       120       205          C\n",
       "9    Male         24       138       279          D\n",
       "10   Male         22        53       138          E\n",
       "11   Male         25        22       351          F"
      ]
     },
     "execution_count": 5,
     "metadata": {},
     "output_type": "execute_result"
    }
   ],
   "source": [
    "a"
   ]
  },
  {
   "cell_type": "code",
   "execution_count": 16,
   "metadata": {},
   "outputs": [
    {
     "data": {
      "text/html": [
       "<div>\n",
       "<style>\n",
       "    .dataframe thead tr:only-child th {\n",
       "        text-align: right;\n",
       "    }\n",
       "\n",
       "    .dataframe thead th {\n",
       "        text-align: left;\n",
       "    }\n",
       "\n",
       "    .dataframe tbody tr th {\n",
       "        vertical-align: top;\n",
       "    }\n",
       "</style>\n",
       "<table border=\"1\" class=\"dataframe\">\n",
       "  <thead>\n",
       "    <tr style=\"text-align: right;\">\n",
       "      <th></th>\n",
       "      <th>Gender</th>\n",
       "      <th>Mean_Age</th>\n",
       "      <th>Admitted</th>\n",
       "      <th>Rejected</th>\n",
       "      <th>Department</th>\n",
       "    </tr>\n",
       "  </thead>\n",
       "  <tbody>\n",
       "    <tr>\n",
       "      <th>6</th>\n",
       "      <td>Male</td>\n",
       "      <td>22</td>\n",
       "      <td>512</td>\n",
       "      <td>313</td>\n",
       "      <td>A</td>\n",
       "    </tr>\n",
       "    <tr>\n",
       "      <th>7</th>\n",
       "      <td>Male</td>\n",
       "      <td>22</td>\n",
       "      <td>353</td>\n",
       "      <td>207</td>\n",
       "      <td>B</td>\n",
       "    </tr>\n",
       "  </tbody>\n",
       "</table>\n",
       "</div>"
      ],
      "text/plain": [
       "  Gender  Mean_Age  Admitted  Rejected Department\n",
       "6   Male        22       512       313          A\n",
       "7   Male        22       353       207          B"
      ]
     },
     "execution_count": 16,
     "metadata": {},
     "output_type": "execute_result"
    }
   ],
   "source": [
    "men"
   ]
  },
  {
   "cell_type": "code",
   "execution_count": 17,
   "metadata": {},
   "outputs": [
    {
     "data": {
      "text/plain": [
       "array(['Female', 'Male', 'Male '], dtype=object)"
      ]
     },
     "execution_count": 17,
     "metadata": {},
     "output_type": "execute_result"
    }
   ],
   "source": [
    "df['Gender'].unique()"
   ]
  },
  {
   "cell_type": "code",
   "execution_count": null,
   "metadata": {
    "collapsed": true
   },
   "outputs": [],
   "source": []
  }
 ],
 "metadata": {
  "kernelspec": {
   "display_name": "Python 3",
   "language": "python",
   "name": "python3"
  },
  "language_info": {
   "codemirror_mode": {
    "name": "ipython",
    "version": 3
   },
   "file_extension": ".py",
   "mimetype": "text/x-python",
   "name": "python",
   "nbconvert_exporter": "python",
   "pygments_lexer": "ipython3",
   "version": "3.6.3"
  }
 },
 "nbformat": 4,
 "nbformat_minor": 2
}
